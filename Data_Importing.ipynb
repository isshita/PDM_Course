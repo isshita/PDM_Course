{
 "cells": [
  {
   "cell_type": "code",
   "execution_count": null,
   "metadata": {},
   "outputs": [],
   "source": [
    "First Step: Lookout for the format of the file you're importing.\n",
    "Second Step: Read the data dictionaries to find the DataType\n",
    "\n",
    "Num_data: Num_data.txt #numpy\n",
    "Diff_data: us-states.csv #pandas\n",
    "\n"
   ]
  },
  {
   "cell_type": "markdown",
   "metadata": {},
   "source": [
    "DATA IMPORTING USING NUMPY\n",
    "\n",
    "https://numpy.org/doc/stable/reference/generated/numpy.loadtxt.html\n",
    "\n",
    "**Each row in a text file must have same number of values"
   ]
  },
  {
   "cell_type": "code",
   "execution_count": 13,
   "metadata": {},
   "outputs": [
    {
     "name": "stdout",
     "output_type": "stream",
     "text": [
      "[['\\ufeffcallSign' 'Date_Time' 'JulianDay' 'Time_QC' 'Latitude'\n",
      "  'Longitude' 'Position_QC' 'Depth' 'Depth_QC' 'Temperature'\n",
      "  'Temperature_QC' 'Salinity' 'Salinity_QC']\n",
      " ['Q4901043' '7/12/10' '2455390.351' '1' '24.823' '-87.964' '1' '2' '1'\n",
      "  '29.83' '1' '36.59' '1']\n",
      " ['Q4901043' '7/12/10' '2455390.351' '1' '24.823' '-87.964' '1' '4' '1'\n",
      "  '29.65' '1' '36.58' '1']\n",
      " ['Q4901043' '7/12/10' '2455390.351' '1' '24.823' '-87.964' '1' '6' '1'\n",
      "  '29.53' '1' '36.58' '1']\n",
      " ['Q4901043' '7/12/10' '2455390.351' '1' '24.823' '-87.964' '1' '8' '1'\n",
      "  '29.49' '1' '36.58' '1']]\n"
     ]
    },
    {
     "data": {
      "text/plain": [
       "(10333, 13)"
      ]
     },
     "execution_count": 13,
     "metadata": {},
     "output_type": "execute_result"
    }
   ],
   "source": [
    "\n",
    "import numpy as np\n",
    "file1 = np.loadtxt(\"floats.csv\", delimiter = ',',dtype = str)\n",
    "print(file1[0:5])\n",
    "\n",
    "\n",
    "#data shape\n",
    "file1.shape\n",
    " \n",
    "\n",
    "\n",
    "\n",
    "\n"
   ]
  },
  {
   "cell_type": "markdown",
   "metadata": {},
   "source": [
    "You can see above data is so messy :(\n",
    "    \n",
    "    Lets skip the header and then read the data"
   ]
  },
  {
   "cell_type": "code",
   "execution_count": 8,
   "metadata": {},
   "outputs": [
    {
     "name": "stdout",
     "output_type": "stream",
     "text": [
      "[['Q4901043' '7/12/10' '2455390.351' '1' '24.823' '-87.964' '1' '2' '1'\n",
      "  '29.83' '1' '36.59' '1']\n",
      " ['Q4901043' '7/12/10' '2455390.351' '1' '24.823' '-87.964' '1' '4' '1'\n",
      "  '29.65' '1' '36.58' '1']\n",
      " ['Q4901043' '7/12/10' '2455390.351' '1' '24.823' '-87.964' '1' '6' '1'\n",
      "  '29.53' '1' '36.58' '1']\n",
      " ['Q4901043' '7/12/10' '2455390.351' '1' '24.823' '-87.964' '1' '8' '1'\n",
      "  '29.49' '1' '36.58' '1']\n",
      " ['Q4901043' '7/12/10' '2455390.351' '1' '24.823' '-87.964' '1' '10' '1'\n",
      "  '29.46' '1' '36.58' '1']]\n"
     ]
    }
   ],
   "source": [
    "file1 = np.loadtxt(\"floats.csv\", delimiter = ',',dtype = str, skiprows = 1)\n",
    "print(file1[0:5])"
   ]
  },
  {
   "cell_type": "code",
   "execution_count": 15,
   "metadata": {},
   "outputs": [
    {
     "name": "stdout",
     "output_type": "stream",
     "text": [
      "[(nan, nan, 2455390.351, 1., 24.823, -87.964, 1.,  2., 1., 29.83, 1., 36.59, 1.)\n",
      " (nan, nan, 2455390.351, 1., 24.823, -87.964, 1.,  4., 1., 29.65, 1., 36.58, 1.)\n",
      " (nan, nan, 2455390.351, 1., 24.823, -87.964, 1.,  6., 1., 29.53, 1., 36.58, 1.)\n",
      " (nan, nan, 2455390.351, 1., 24.823, -87.964, 1.,  8., 1., 29.49, 1., 36.58, 1.)\n",
      " (nan, nan, 2455390.351, 1., 24.823, -87.964, 1., 10., 1., 29.46, 1., 36.58, 1.)]\n"
     ]
    },
    {
     "data": {
      "text/plain": [
       "(10332,)"
      ]
     },
     "execution_count": 15,
     "metadata": {},
     "output_type": "execute_result"
    }
   ],
   "source": [
    "#did you observe the difference\n",
    "file1a = np.genfromtxt('floats.csv', delimiter=',', names=True)\n",
    "print(file1a[0:5])\n",
    "\n",
    "file1a.shape"
   ]
  },
  {
   "cell_type": "markdown",
   "metadata": {},
   "source": [
    "FLAT FILES DATA IMPORTING USING PANDAS"
   ]
  },
  {
   "cell_type": "markdown",
   "metadata": {},
   "source": [
    "WE ARE IMPORTING THE COMMA SEPERATED FILES"
   ]
  },
  {
   "cell_type": "code",
   "execution_count": 16,
   "metadata": {},
   "outputs": [
    {
     "name": "stdout",
     "output_type": "stream",
     "text": [
      "         date       state  fips  cases  deaths\n",
      "0  2020-01-21  Washington    53      1       0\n",
      "1  2020-01-22  Washington    53      1       0\n",
      "2  2020-01-23  Washington    53      1       0\n",
      "3  2020-01-24    Illinois    17      1       0\n",
      "4  2020-01-24  Washington    53      1       0\n"
     ]
    }
   ],
   "source": [
    "#first way\n",
    "import pandas as pd\n",
    "\n",
    "file2 =  pd.read_csv(\"/Users/isha/Downloads/us-states.csv\",nrows = 5,header = 0)\n",
    "print(file2)\n",
    "\n",
    "#second way\n",
    "#file2 = pd.read_csv('us-states.csv')"
   ]
  },
  {
   "cell_type": "code",
   "execution_count": 24,
   "metadata": {},
   "outputs": [
    {
     "data": {
      "text/html": [
       "<div>\n",
       "<style scoped>\n",
       "    .dataframe tbody tr th:only-of-type {\n",
       "        vertical-align: middle;\n",
       "    }\n",
       "\n",
       "    .dataframe tbody tr th {\n",
       "        vertical-align: top;\n",
       "    }\n",
       "\n",
       "    .dataframe thead th {\n",
       "        text-align: right;\n",
       "    }\n",
       "</style>\n",
       "<table border=\"1\" class=\"dataframe\">\n",
       "  <thead>\n",
       "    <tr style=\"text-align: right;\">\n",
       "      <th></th>\n",
       "      <th>date</th>\n",
       "      <th>state</th>\n",
       "      <th>fips</th>\n",
       "      <th>cases</th>\n",
       "      <th>deaths</th>\n",
       "    </tr>\n",
       "  </thead>\n",
       "  <tbody>\n",
       "    <tr>\n",
       "      <th>0</th>\n",
       "      <td>2020-01-21</td>\n",
       "      <td>Washington</td>\n",
       "      <td>53</td>\n",
       "      <td>1</td>\n",
       "      <td>0</td>\n",
       "    </tr>\n",
       "    <tr>\n",
       "      <th>1</th>\n",
       "      <td>2020-01-22</td>\n",
       "      <td>Washington</td>\n",
       "      <td>53</td>\n",
       "      <td>1</td>\n",
       "      <td>0</td>\n",
       "    </tr>\n",
       "    <tr>\n",
       "      <th>2</th>\n",
       "      <td>2020-01-23</td>\n",
       "      <td>Washington</td>\n",
       "      <td>53</td>\n",
       "      <td>1</td>\n",
       "      <td>0</td>\n",
       "    </tr>\n",
       "    <tr>\n",
       "      <th>3</th>\n",
       "      <td>2020-01-24</td>\n",
       "      <td>Illinois</td>\n",
       "      <td>17</td>\n",
       "      <td>1</td>\n",
       "      <td>0</td>\n",
       "    </tr>\n",
       "    <tr>\n",
       "      <th>4</th>\n",
       "      <td>2020-01-24</td>\n",
       "      <td>Washington</td>\n",
       "      <td>53</td>\n",
       "      <td>1</td>\n",
       "      <td>0</td>\n",
       "    </tr>\n",
       "  </tbody>\n",
       "</table>\n",
       "</div>"
      ],
      "text/plain": [
       "         date       state  fips  cases  deaths\n",
       "0  2020-01-21  Washington    53      1       0\n",
       "1  2020-01-22  Washington    53      1       0\n",
       "2  2020-01-23  Washington    53      1       0\n",
       "3  2020-01-24    Illinois    17      1       0\n",
       "4  2020-01-24  Washington    53      1       0"
      ]
     },
     "execution_count": 24,
     "metadata": {},
     "output_type": "execute_result"
    }
   ],
   "source": [
    "file2.head()"
   ]
  },
  {
   "cell_type": "code",
   "execution_count": 25,
   "metadata": {},
   "outputs": [
    {
     "name": "stdout",
     "output_type": "stream",
     "text": [
      "[['2020-01-21' 'Washington' 53 1 0]\n",
      " ['2020-01-22' 'Washington' 53 1 0]\n",
      " ['2020-01-23' 'Washington' 53 1 0]\n",
      " ['2020-01-24' 'Illinois' 17 1 0]\n",
      " ['2020-01-24' 'Washington' 53 1 0]]\n"
     ]
    }
   ],
   "source": [
    "data_array = np.array(file2)\n",
    "print(data_array)\n"
   ]
  },
  {
   "cell_type": "markdown",
   "metadata": {},
   "source": [
    "What if we have another format of flat file such as .tsv/.txt)????"
   ]
  },
  {
   "cell_type": "markdown",
   "metadata": {},
   "source": [
    "DATA EXPORTING USING PANDAS"
   ]
  },
  {
   "cell_type": "code",
   "execution_count": 26,
   "metadata": {},
   "outputs": [],
   "source": [
    "#library required\n",
    "#pip install openpyxl\n",
    "\n",
    "file2.to_excel(r'/Users/isha/Desktop/my_file.xlsx',sheet_name='Sheet1')  \n"
   ]
  },
  {
   "cell_type": "code",
   "execution_count": null,
   "metadata": {},
   "outputs": [],
   "source": [
    "Most Important: Importing the Large DataSet"
   ]
  },
  {
   "cell_type": "code",
   "execution_count": null,
   "metadata": {},
   "outputs": [],
   "source": [
    "\n"
   ]
  },
  {
   "cell_type": "code",
   "execution_count": null,
   "metadata": {},
   "outputs": [],
   "source": []
  }
 ],
 "metadata": {
  "kernelspec": {
   "display_name": "Python 3",
   "language": "python",
   "name": "python3"
  },
  "language_info": {
   "codemirror_mode": {
    "name": "ipython",
    "version": 3
   },
   "file_extension": ".py",
   "mimetype": "text/x-python",
   "name": "python",
   "nbconvert_exporter": "python",
   "pygments_lexer": "ipython3",
   "version": "3.8.3"
  }
 },
 "nbformat": 4,
 "nbformat_minor": 4
}
